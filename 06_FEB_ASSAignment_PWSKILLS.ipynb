{
 "cells": [
  {
   "cell_type": "code",
   "execution_count": 1,
   "id": "b6a58c12",
   "metadata": {},
   "outputs": [],
   "source": [
    "# Question 1"
   ]
  },
  {
   "cell_type": "code",
   "execution_count": 2,
   "id": "3ad6b53d",
   "metadata": {},
   "outputs": [],
   "source": [
    "def product_flatlist(var , flatlist):\n",
    "    if type(var) in [int , str , float , bool] :\n",
    "        flatlist.append(var)\n",
    "        return \n",
    "    if type(var) == dict :\n",
    "        for key , val in var.items() : \n",
    "            product_flatlist(key , flatlist)\n",
    "            product_flatlist(val , flatlist)\n",
    "    else : \n",
    "        for i in var : \n",
    "            product_flatlist(i , flatlist)"
   ]
  },
  {
   "cell_type": "code",
   "execution_count": 3,
   "id": "969cdc09",
   "metadata": {},
   "outputs": [],
   "source": [
    "a = [1 , 2 , 3 , {1:['a' , 'b' , 'c'] , 'd' : 3} , (2 , 'a' , ['b' , 'c' , 'd'])]"
   ]
  },
  {
   "cell_type": "code",
   "execution_count": 4,
   "id": "60e2f9e5",
   "metadata": {},
   "outputs": [],
   "source": [
    "flatlist = []\n",
    "product_flatlist(a , flatlist)"
   ]
  },
  {
   "cell_type": "code",
   "execution_count": 5,
   "id": "f7134cc5",
   "metadata": {},
   "outputs": [
    {
     "name": "stdout",
     "output_type": "stream",
     "text": [
      "36\n"
     ]
    }
   ],
   "source": [
    "product = 1\n",
    "for i in flatlist:\n",
    "    if type(i) == int or type(i) == float :\n",
    "        product *= i \n",
    "print(product)"
   ]
  },
  {
   "cell_type": "code",
   "execution_count": 6,
   "id": "52493117",
   "metadata": {},
   "outputs": [],
   "source": [
    "list1 = [1,2,3,4, [44,55,66, True], False, (34,56,78,89,34), {1,2,3,3,2,1}, {1:34, \"key2\": [55, 67, 78, 89], 4: (45,\n",
    "22, 61, 34)}, [56, 'data science'], 'Machine Learning']    "
   ]
  },
  {
   "cell_type": "code",
   "execution_count": 7,
   "id": "74485564",
   "metadata": {},
   "outputs": [],
   "source": [
    "flatlist2 = []\n",
    "product_flatlist(list1 , flatlist2)"
   ]
  },
  {
   "cell_type": "code",
   "execution_count": 8,
   "id": "22abccca",
   "metadata": {},
   "outputs": [
    {
     "name": "stdout",
     "output_type": "stream",
     "text": [
      "4134711838987085478833841242112000\n"
     ]
    }
   ],
   "source": [
    "product = 1\n",
    "for i in flatlist2:\n",
    "    if type(i) == int or type(i) == float :\n",
    "        product *= i \n",
    "print(product)"
   ]
  },
  {
   "cell_type": "code",
   "execution_count": 9,
   "id": "b26b23d2",
   "metadata": {},
   "outputs": [],
   "source": [
    "# Question 2"
   ]
  },
  {
   "cell_type": "code",
   "execution_count": 10,
   "id": "258819ae",
   "metadata": {},
   "outputs": [],
   "source": [
    "def encryption(text):\n",
    "    text = text.lower()\n",
    "    encrypted = ''\n",
    "    for i in text:\n",
    "        if i == ' ':\n",
    "            encrypted += '$'\n",
    "        elif ord(i) >= 97 and ord(i) <= 122 :\n",
    "            encrypted += chr(122 - (ord(i) - ord('a')))\n",
    "        else : \n",
    "            encrypted += i \n",
    "    return encrypted        "
   ]
  },
  {
   "cell_type": "code",
   "execution_count": 12,
   "id": "931210de",
   "metadata": {},
   "outputs": [
    {
     "data": {
      "text/plain": [
       "'sr$r$zn$pzhz$kzezm'"
      ]
     },
     "execution_count": 12,
     "metadata": {},
     "output_type": "execute_result"
    }
   ],
   "source": [
    "encryption('HI I AM KASA PAVAN')"
   ]
  }
 ],
 "metadata": {
  "kernelspec": {
   "display_name": "Python 3 (ipykernel)",
   "language": "python",
   "name": "python3"
  },
  "language_info": {
   "codemirror_mode": {
    "name": "ipython",
    "version": 3
   },
   "file_extension": ".py",
   "mimetype": "text/x-python",
   "name": "python",
   "nbconvert_exporter": "python",
   "pygments_lexer": "ipython3",
   "version": "3.11.5"
  }
 },
 "nbformat": 4,
 "nbformat_minor": 5
}
